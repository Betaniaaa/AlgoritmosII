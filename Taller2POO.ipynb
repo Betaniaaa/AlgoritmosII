{
  "nbformat": 4,
  "nbformat_minor": 0,
  "metadata": {
    "colab": {
      "provenance": [],
      "authorship_tag": "ABX9TyM4CBkAxkXn+uvf7G5Gc7iU",
      "include_colab_link": true
    },
    "kernelspec": {
      "name": "python3",
      "display_name": "Python 3"
    },
    "language_info": {
      "name": "python"
    }
  },
  "cells": [
    {
      "cell_type": "markdown",
      "metadata": {
        "id": "view-in-github",
        "colab_type": "text"
      },
      "source": [
        "<a href=\"https://colab.research.google.com/github/Betaniaaa/AlgoritmosII/blob/main/Taller2POO.ipynb\" target=\"_parent\"><img src=\"https://colab.research.google.com/assets/colab-badge.svg\" alt=\"Open In Colab\"/></a>"
      ]
    },
    {
      "cell_type": "markdown",
      "source": [
        "##Taller en Clase: **POO**\n",
        "\n",
        "Estudiantes: Betania Alejos, Andrea Pote\n"
      ],
      "metadata": {
        "id": "PdiSnS1a_Br1"
      }
    },
    {
      "cell_type": "markdown",
      "source": [
        "###***Ejercicios:***"
      ],
      "metadata": {
        "id": "MriPPPc8_dRi"
      }
    },
    {
      "cell_type": "markdown",
      "source": [
        "1. Crea una clase llamada Persona que tenga atributos para el nombre y la\n",
        "edad. Implementa métodos para que la persona pueda presentarse\n",
        "(mostrando su nombre y edad) y para que pueda cumplir años (aumentando\n",
        "su edad en 1)."
      ],
      "metadata": {
        "id": "qkyTUuWb_XXm"
      }
    },
    {
      "cell_type": "code",
      "source": [
        "nombre = input(\"Ingrese su nombre: \")\n",
        "edad = int(input(\"Ingrese su edad: \"))\n",
        "\n",
        "class Persona:\n",
        "    def __init__(self, nombre, edad):\n",
        "        self.nombre = nombre\n",
        "        self.edad = edad\n",
        "\n",
        "    def presentarse(self):\n",
        "        print(f\"Hola, me llamo {self.nombre} y tengo {self.edad} años.\")\n",
        "\n",
        "    def cumple(self):\n",
        "        self.edad += 1\n",
        "        print(f\"¡Es mi cumpleaños! Ahora tengo {self.edad} años.\")\n",
        "\n",
        "\n",
        "persona1 = Persona(nombre, edad)\n",
        "persona1.presentarse()\n",
        "persona1.cumple()\n",
        "persona1.presentarse()\n"
      ],
      "metadata": {
        "id": "qzwTX3Tp_SAv",
        "outputId": "55e621be-cc5d-4063-9acc-63382f01580f",
        "colab": {
          "base_uri": "https://localhost:8080/"
        }
      },
      "execution_count": 1,
      "outputs": [
        {
          "output_type": "stream",
          "name": "stdout",
          "text": [
            "Ingrese su nombre: bet\n",
            "Ingrese su edad: 19\n",
            "Hola, me llamo bet y tengo 19 años.\n",
            "¡Es mi cumpleaños! Ahora tengo 20 años.\n",
            "Hola, me llamo bet y tengo 20 años.\n"
          ]
        }
      ]
    },
    {
      "cell_type": "markdown",
      "source": [
        "2. Crea una clase llamada Coche que tenga atributos para la marca, el modelo y\n",
        "el estado (encendido o apagado). Implementa métodos para encender el\n",
        "coche, apagarlo y verificar su estado actual."
      ],
      "metadata": {
        "id": "LRqtAVsuDALJ"
      }
    },
    {
      "cell_type": "code",
      "source": [
        "marca = input(\"Ingrese la marca del coche: \")\n",
        "modelo = input(\"Ingrese el modelo del coche: \")\n",
        "\n",
        "class Coche:\n",
        "    def __init__(self, marca, modelo):\n",
        "        self.marca = marca\n",
        "        self.modelo = modelo\n",
        "        self.encendido = False\n",
        "\n",
        "    def encender(self):\n",
        "        if not self.encendido:\n",
        "            self.encendido = True\n",
        "            print(f\"El coche {self.marca} {self.modelo} ha sido encendido.\")\n",
        "        else:\n",
        "            print(f\"El coche {self.marca} {self.modelo} ya está encendido.\")\n",
        "\n",
        "    def apagar(self):\n",
        "        if self.encendido:\n",
        "            self.encendido = False\n",
        "            print(f\"El coche {self.marca} {self.modelo} ha sido apagado.\")\n",
        "        else:\n",
        "            print(f\"El coche {self.marca} {self.modelo} ya está apagado.\")\n",
        "\n",
        "    def verificar_estado(self):\n",
        "        estado = \"encendido\" if self.encendido else \"apagado\"\n",
        "        print(f\"El coche {self.marca} {self.modelo} está {estado}.\")\n",
        "\n",
        "coche1 = Coche(marca, modelo)\n",
        "coche1.verificar_estado()\n",
        "coche1.encender()\n",
        "coche1.verificar_estado()\n",
        "coche1.apagar()\n",
        "coche1.verificar_estado()"
      ],
      "metadata": {
        "id": "mkduWF-xBy2e",
        "outputId": "e8b429ea-4c25-47be-aa17-a71d0c667e6a",
        "colab": {
          "base_uri": "https://localhost:8080/"
        }
      },
      "execution_count": null,
      "outputs": [
        {
          "output_type": "stream",
          "name": "stdout",
          "text": [
            "Ingrese la marca del coche: Porshe\n",
            "Ingrese el modelo del coche: 2010\n",
            "El coche Porshe 2010 está apagado.\n",
            "El coche Porshe 2010 ha sido encendido.\n",
            "El coche Porshe 2010 está encendido.\n",
            "El coche Porshe 2010 ha sido apagado.\n",
            "El coche Porshe 2010 está apagado.\n"
          ]
        }
      ]
    },
    {
      "cell_type": "markdown",
      "source": [
        "3. Crea una clase llamada Rectangulo que tenga atributos para el ancho y el\n",
        "alto. Implementa métodos para calcular el área, el perímetro y para verificar\n",
        "si el rectángulo es un cuadrado (es decir, si el ancho y el alto son iguales).\n"
      ],
      "metadata": {
        "id": "3PIxxcZOEHHQ"
      }
    },
    {
      "cell_type": "code",
      "source": [
        "ancho = float(input(\"Ingrese el ancho del rectángulo: \"))\n",
        "alto = float(input(\"Ingrese el alto del rectángulo: \"))\n",
        "\n",
        "class Rectangulo:\n",
        "    def __init__(self, ancho, alto):\n",
        "        self.ancho = ancho\n",
        "        self.alto = alto\n",
        "\n",
        "    def calcular_area(self):\n",
        "        return self.ancho * self.alto\n",
        "\n",
        "    def calcular_perimetro(self):\n",
        "        return 2 * (self.ancho + self.alto)\n",
        "\n",
        "    def es_cuadrado(self):\n",
        "        return self.ancho == self.alto\n",
        "\n",
        "\n",
        "rectangulo1 = Rectangulo(ancho, alto)\n",
        "print(f\"Área: {rectangulo1.calcular_area()}\")\n",
        "print(f\"Perímetro: {rectangulo1.calcular_perimetro()}\")\n",
        "print(\"Es un cuadrado\" if rectangulo1.es_cuadrado() else \"No es un cuadrado\")\n"
      ],
      "metadata": {
        "id": "6HgrF5nrD5Kh",
        "outputId": "fed94b36-0e23-468e-ffb8-e45124cb1dc5",
        "colab": {
          "base_uri": "https://localhost:8080/"
        }
      },
      "execution_count": null,
      "outputs": [
        {
          "output_type": "stream",
          "name": "stdout",
          "text": [
            "Ingrese el ancho del rectángulo: 5\n",
            "Ingrese el alto del rectángulo: 10\n",
            "Área: 50.0\n",
            "Perímetro: 30.0\n",
            "No es un cuadrado\n"
          ]
        }
      ]
    },
    {
      "cell_type": "markdown",
      "source": [
        "4. Crea una clase llamada Libro que tenga atributos para el título, el autor y el\n",
        "número de páginas. Implementa métodos para mostrar la información\n",
        "completa del libro y para verificar si es un libro largo (más de 300 páginas)."
      ],
      "metadata": {
        "id": "uiw_h66ZEdN-"
      }
    },
    {
      "cell_type": "code",
      "source": [
        "titulo = input(\"Ingrese el título del libro: \")\n",
        "autor = input(\"Ingrese el autor del libro: \")\n",
        "paginas = int(input(\"Ingrese el número de páginas: \"))\n",
        "\n",
        "class Libro:\n",
        "    def __init__(self, titulo, autor, paginas):\n",
        "        self.titulo = titulo\n",
        "        self.autor = autor\n",
        "        self.paginas = paginas\n",
        "\n",
        "    def mostrar_info(self):\n",
        "        print(f\"Título: {self.titulo}, Autor: {self.autor}, Páginas: {self.paginas}\")\n",
        "\n",
        "    def es_libro_largo(self):\n",
        "        return self.paginas > 300\n",
        "\n",
        "libro1 = Libro(titulo, autor, paginas)\n",
        "libro1.mostrar_info()\n",
        "print(\"Es un libro largo\"\n",
        "      if libro1.es_libro_largo()\n",
        "      else \"No es un libro largo\")"
      ],
      "metadata": {
        "id": "X_E618cOEed0",
        "outputId": "fed878f6-b836-413f-f21e-6b554f61fd9c",
        "colab": {
          "base_uri": "https://localhost:8080/"
        }
      },
      "execution_count": null,
      "outputs": [
        {
          "output_type": "stream",
          "name": "stdout",
          "text": [
            "Ingrese el título del libro: hhh\n",
            "Ingrese el autor del libro: hhhh\n",
            "Ingrese el número de páginas: 800\n",
            "Título: hhh, Autor: hhhh, Páginas: 800\n",
            "Es un libro largo\n"
          ]
        }
      ]
    },
    {
      "cell_type": "markdown",
      "source": [
        "6. Crea una clase llamada Estudiante que tenga atributos para el nombre, la\n",
        "edad y una lista de notas. Implementa métodos para agregar notas, calcular\n",
        "el promedio de las notas y mostrar la información completa del estudiante\n",
        "(nombre, edad y promedio)."
      ],
      "metadata": {
        "id": "WKeBbzZ6FqN4"
      }
    },
    {
      "cell_type": "code",
      "source": [
        "nombre = input(\"Ingrese el nombre del estudiante: \")\n",
        "edad = int(input(\"Ingrese la edad del estudiante: \"))\n",
        "\n",
        "class Estudiante:\n",
        "    def __init__(self, nombre, edad):\n",
        "        self.nombre = nombre\n",
        "        self.edad = edad\n",
        "        self.notas = []\n",
        "\n",
        "    def agregar_nota(self, nota):\n",
        "        self.notas.append(nota)\n",
        "\n",
        "    def calcular_promedio(self):\n",
        "        return sum(self.notas) / len(self.notas) if self.notas else 0\n",
        "\n",
        "    def mostrar_info(self):\n",
        "        promedio = self.calcular_promedio()\n",
        "        print(f\"Nombre: {self.nombre}, Edad: {self.edad}, Promedio: {promedio:.2f}\")\n",
        "\n",
        "estudiante1 = Estudiante(nombre, edad)\n",
        "n_notas = int(input(\"¿Cuántas notas desea ingresar?: \"))\n",
        "for _ in range(n_notas):\n",
        "    nota = float(input(\"Ingrese una nota: \"))\n",
        "    estudiante1.agregar_nota(nota)\n",
        "\n",
        "estudiante1.mostrar_info()\n"
      ],
      "metadata": {
        "id": "QuchxY1MFWfZ",
        "outputId": "a48065af-ca2a-4a4d-e39b-7c8d861314e1",
        "colab": {
          "base_uri": "https://localhost:8080/"
        }
      },
      "execution_count": null,
      "outputs": [
        {
          "output_type": "stream",
          "name": "stdout",
          "text": [
            "Ingrese el nombre del estudiante: bet\n",
            "Ingrese la edad del estudiante: 19\n",
            "¿Cuántas notas desea ingresar?: 2\n",
            "Ingrese una nota: 4.0\n",
            "Ingrese una nota: 2.5\n",
            "Nombre: bet, Edad: 19, Promedio: 3.25\n"
          ]
        }
      ]
    },
    {
      "cell_type": "markdown",
      "source": [
        "7. Crea una clase llamada Circulo que tenga un atributo para el radio.\n",
        "Implementa métodos para calcular el área y el perímetro del círculo, usando\n",
        "el valor de π (pi) de la librería math."
      ],
      "metadata": {
        "id": "7BLBDFDZGcqx"
      }
    },
    {
      "cell_type": "code",
      "source": [
        "import math\n",
        "radio = float(input(\"Ingrese el radio del círculo: \"))\n",
        "\n",
        "class Circulo:\n",
        "    def __init__(self, radio):\n",
        "        self.radio = radio\n",
        "\n",
        "    def calcular_area(self):\n",
        "        return math.pi * self.radio ** 2 # Now math.pi is accessible\n",
        "\n",
        "    def calcular_perimetro(self):\n",
        "        return 2 * math.pi * self.radio # Now math.pi is accessible\n",
        "\n",
        "circulo1 = Circulo(radio)\n",
        "print(f\"Área: {circulo1.calcular_area()}\")\n",
        "print(f\"Perímetro: {circulo1.calcular_perimetro()}\")"
      ],
      "metadata": {
        "id": "dGar2GNgGNC2",
        "outputId": "6f475076-85e7-4de5-a132-23725d8e6650",
        "colab": {
          "base_uri": "https://localhost:8080/"
        }
      },
      "execution_count": null,
      "outputs": [
        {
          "output_type": "stream",
          "name": "stdout",
          "text": [
            "Ingrese el radio del círculo: 5.888\n",
            "Área: 108.91444314105449\n",
            "Perímetro: 36.995395088673405\n"
          ]
        }
      ]
    },
    {
      "cell_type": "markdown",
      "source": [
        "8. Crea una clase llamada Tienda que tenga atributos para el nombre de la\n",
        "tienda y una lista de productos. Implementa métodos para agregar\n",
        "productos, mostrar todos los productos disponibles y buscar un producto\n",
        "específico por su nombre."
      ],
      "metadata": {
        "id": "1IBrKTglGeKh"
      }
    },
    {
      "cell_type": "code",
      "source": [
        "class Tienda:\n",
        "    def __init__(self, nombre):\n",
        "        self.nombre = nombre\n",
        "        self.productos = []\n",
        "\n",
        "    def agregar_producto(self, producto):\n",
        "        self.productos.append(producto)\n",
        "        print(f\"Producto '{producto}' agregado a la tienda.\")\n",
        "\n",
        "    def mostrar_productos(self):\n",
        "        if self.productos:\n",
        "            print(\"Productos en la tienda:\")\n",
        "            for producto in self.productos:\n",
        "                print(f\"- {producto}\")\n",
        "        else:\n",
        "            print(\"No hay productos en la tienda.\")\n",
        "\n",
        "    def buscar_producto(self, producto):\n",
        "        if producto in self.productos:\n",
        "            print(f\"El producto '{producto}' está disponible en la tienda.\")\n",
        "        else:\n",
        "            print(f\"El producto '{producto}' no está en la tienda.\")\n",
        "\n",
        "nombre_tienda = input(\"Ingrese el nombre de la tienda: \")\n",
        "tiendita = Tienda(nombre_tienda)\n",
        "\n",
        "producto = input(\"Ingrese un producto para agregar: \")\n",
        "tiendita.agregar_producto(producto)\n",
        "tiendita.mostrar_productos()\n",
        "\n",
        "producto_buscar = input(\"Ingrese un producto para buscar: \")\n",
        "tiendita.buscar_producto(producto_buscar)"
      ],
      "metadata": {
        "id": "-Wk2R29DINqt",
        "outputId": "50eff36b-7cd6-425a-e12b-f311147d5cfd",
        "colab": {
          "base_uri": "https://localhost:8080/"
        }
      },
      "execution_count": null,
      "outputs": [
        {
          "output_type": "stream",
          "name": "stdout",
          "text": [
            "Ingrese el nombre de la tienda: bet\n",
            "Ingrese un producto para agregar: arepa\n",
            "Producto 'arepa' agregado a la tienda.\n",
            "Productos en la tienda:\n",
            "- arepa\n",
            "Ingrese un producto para buscar: tomate\n",
            "El producto 'tomate' no está en la tienda.\n"
          ]
        }
      ]
    }
  ]
}